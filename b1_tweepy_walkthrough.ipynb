{
  "nbformat": 4,
  "nbformat_minor": 0,
  "metadata": {
    "colab": {
      "provenance": [],
      "collapsed_sections": [
        "uJcg5S9ujSLb",
        "LwuM_oLmRspH",
        "rUdfYMvNR4Lk",
        "E4-arYLAiRXh",
        "4HAbsbvQiaxF",
        "IKjTKkYqirCO",
        "K9jsvMAsi01T",
        "ZJZbAx3hjCoY",
        "lF7VgsCljJA-",
        "DyHJr7IyOTK3",
        "zSsoTq2NjPa2"
      ],
      "include_colab_link": true
    },
    "kernelspec": {
      "name": "python3",
      "display_name": "Python 3"
    },
    "language_info": {
      "name": "python"
    }
  },
  "cells": [
    {
      "cell_type": "markdown",
      "metadata": {
        "id": "view-in-github",
        "colab_type": "text"
      },
      "source": [
        "<a href=\"https://colab.research.google.com/github/aalgh3mdi/From-0-to-Research-Scientist-resources-guide/blob/main/b1_tweepy_walkthrough.ipynb\" target=\"_parent\"><img src=\"https://colab.research.google.com/assets/colab-badge.svg\" alt=\"Open In Colab\"/></a>"
      ]
    },
    {
      "cell_type": "markdown",
      "source": [
        "# **Tutorial\\#1: Testing Twitter API**"
      ],
      "metadata": {
        "id": "mPv7Web_lwMG"
      }
    },
    {
      "cell_type": "code",
      "source": [
        "API_Key         = \"h69u79uKVG2RNSK3wjQf2AGIy\"\n",
        "API_Secret      = \"VvZbIywvCzCWEU0a1vDmqkydPXEDZIztnIG7entvwqwUk5OM2U\"\n",
        "Bearer_Token    = \"AAAAAAAAAAAAAAAAAAAAAH5NswEAAAAAgqj%2BA429GVdnt8OzPdzJddlLP9U%3D3N2BPXSORKJiCR2jvKFbIOXyKC0fmDo8EsTBynLvNZLxICi11g\"\n",
        "Access_Token    = \"230976296-g58kctOxZDHdikcsY7LpVYrxnbjp2x1BsTf4MiMY\"\n",
        "Access_Secret   = \"wVyY4dOaJC9sHbTM1Hv6kkHl3MxgoqRncpVeu3LK5899j\""
      ],
      "metadata": {
        "id": "xVjT--AWl2ni"
      },
      "execution_count": 1,
      "outputs": []
    },
    {
      "cell_type": "markdown",
      "source": [
        "### Get recent public tweets on keywords"
      ],
      "metadata": {
        "id": "uJcg5S9ujSLb"
      }
    },
    {
      "cell_type": "code",
      "source": [
        "!pip install tweepy==4.9.0"
      ],
      "metadata": {
        "colab": {
          "base_uri": "https://localhost:8080/"
        },
        "id": "dhS7GLU7Mr0R",
        "outputId": "600babfc-46d1-4626-9f3d-94e4bad73b2c"
      },
      "execution_count": 2,
      "outputs": [
        {
          "output_type": "stream",
          "name": "stdout",
          "text": [
            "Collecting tweepy==4.9.0\n",
            "  Using cached tweepy-4.9.0-py3-none-any.whl (77 kB)\n",
            "Requirement already satisfied: oauthlib<4,>=3.2.0 in /usr/local/lib/python3.10/dist-packages (from tweepy==4.9.0) (3.2.2)\n",
            "Requirement already satisfied: requests<3,>=2.27.0 in /usr/local/lib/python3.10/dist-packages (from tweepy==4.9.0) (2.31.0)\n",
            "Requirement already satisfied: requests-oauthlib<2,>=1.2.0 in /usr/local/lib/python3.10/dist-packages (from tweepy==4.9.0) (1.4.0)\n",
            "Requirement already satisfied: charset-normalizer<4,>=2 in /usr/local/lib/python3.10/dist-packages (from requests<3,>=2.27.0->tweepy==4.9.0) (3.3.2)\n",
            "Requirement already satisfied: idna<4,>=2.5 in /usr/local/lib/python3.10/dist-packages (from requests<3,>=2.27.0->tweepy==4.9.0) (3.6)\n",
            "Requirement already satisfied: urllib3<3,>=1.21.1 in /usr/local/lib/python3.10/dist-packages (from requests<3,>=2.27.0->tweepy==4.9.0) (2.0.7)\n",
            "Requirement already satisfied: certifi>=2017.4.17 in /usr/local/lib/python3.10/dist-packages (from requests<3,>=2.27.0->tweepy==4.9.0) (2024.2.2)\n",
            "\u001b[31mERROR: Operation cancelled by user\u001b[0m\u001b[31m\n",
            "\u001b[0m"
          ]
        }
      ]
    },
    {
      "cell_type": "code",
      "source": [
        "pip install --upgrade tweepy"
      ],
      "metadata": {
        "id": "RHGlLkIcA8yd",
        "outputId": "536c5ea7-7d1e-433b-e283-c008f0cf43f6",
        "colab": {
          "base_uri": "https://localhost:8080/"
        }
      },
      "execution_count": 3,
      "outputs": [
        {
          "output_type": "stream",
          "name": "stdout",
          "text": [
            "Requirement already satisfied: tweepy in /usr/local/lib/python3.10/dist-packages (4.14.0)\n",
            "Requirement already satisfied: oauthlib<4,>=3.2.0 in /usr/local/lib/python3.10/dist-packages (from tweepy) (3.2.2)\n",
            "Requirement already satisfied: requests<3,>=2.27.0 in /usr/local/lib/python3.10/dist-packages (from tweepy) (2.31.0)\n",
            "Requirement already satisfied: requests-oauthlib<2,>=1.2.0 in /usr/local/lib/python3.10/dist-packages (from tweepy) (1.4.0)\n",
            "Requirement already satisfied: charset-normalizer<4,>=2 in /usr/local/lib/python3.10/dist-packages (from requests<3,>=2.27.0->tweepy) (3.3.2)\n",
            "Requirement already satisfied: idna<4,>=2.5 in /usr/local/lib/python3.10/dist-packages (from requests<3,>=2.27.0->tweepy) (3.6)\n",
            "Requirement already satisfied: urllib3<3,>=1.21.1 in /usr/local/lib/python3.10/dist-packages (from requests<3,>=2.27.0->tweepy) (2.0.7)\n",
            "Requirement already satisfied: certifi>=2017.4.17 in /usr/local/lib/python3.10/dist-packages (from requests<3,>=2.27.0->tweepy) (2024.2.2)\n"
          ]
        }
      ]
    },
    {
      "cell_type": "code",
      "source": [
        "import tweepy"
      ],
      "metadata": {
        "id": "frlKCH74-Sr5"
      },
      "execution_count": 4,
      "outputs": []
    },
    {
      "cell_type": "code",
      "source": [
        "# Authenticate with Twitter OAuth 2.0 Bearer Token (Application-only)\n",
        "client = tweepy.Client(bearer_token=\"AAAAAAAAAAAAAAAAAAAAAH5NswEAAAAAgqj%2BA429GVdnt8OzPdzJddlLP9U%3D3N2BPXSORKJiCR2jvKFbIOXyKC0fmDo8EsTBynLvNZLxICi11g\")"
      ],
      "metadata": {
        "id": "4WAainzWMw-_"
      },
      "execution_count": 6,
      "outputs": []
    },
    {
      "cell_type": "code",
      "source": [
        "# Pull tweets from twitter\n",
        "\n",
        "query = '#elonmusk -is:retweet lang:en'\n",
        "\n",
        "tweets=client.search_recent_tweets ( query=query, tweet_fields= ['context_annotations', 'created_at'], max_results=10)\n",
        "\n",
        "# Get tweets that contain the hashtag #TypeKeywordHere\n",
        "# -is:retweet means I don't want retweets\n",
        "# lang:en is asking for the tweets to be in english"
      ],
      "metadata": {
        "id": "H2vOTd4vRkHf",
        "outputId": "f6d968d5-05ff-4dd1-ee23-abc631067526",
        "colab": {
          "base_uri": "https://localhost:8080/",
          "height": 443
        }
      },
      "execution_count": 17,
      "outputs": [
        {
          "output_type": "error",
          "ename": "Forbidden",
          "evalue": "403 Forbidden\nWhen authenticating requests to the Twitter API v2 endpoints, you must use keys and tokens from a Twitter developer App that is attached to a Project. You can create a project via the developer portal.",
          "traceback": [
            "\u001b[0;31m---------------------------------------------------------------------------\u001b[0m",
            "\u001b[0;31mForbidden\u001b[0m                                 Traceback (most recent call last)",
            "\u001b[0;32m<ipython-input-17-7f815439623e>\u001b[0m in \u001b[0;36m<cell line: 5>\u001b[0;34m()\u001b[0m\n\u001b[1;32m      3\u001b[0m \u001b[0mquery\u001b[0m \u001b[0;34m=\u001b[0m \u001b[0;34m'#elonmusk -is:retweet lang:en'\u001b[0m\u001b[0;34m\u001b[0m\u001b[0;34m\u001b[0m\u001b[0m\n\u001b[1;32m      4\u001b[0m \u001b[0;34m\u001b[0m\u001b[0m\n\u001b[0;32m----> 5\u001b[0;31m \u001b[0mtweets\u001b[0m\u001b[0;34m=\u001b[0m\u001b[0mclient\u001b[0m\u001b[0;34m.\u001b[0m\u001b[0msearch_recent_tweets\u001b[0m \u001b[0;34m(\u001b[0m \u001b[0mquery\u001b[0m\u001b[0;34m=\u001b[0m\u001b[0mquery\u001b[0m\u001b[0;34m,\u001b[0m \u001b[0mtweet_fields\u001b[0m\u001b[0;34m=\u001b[0m \u001b[0;34m[\u001b[0m\u001b[0;34m'context_annotations'\u001b[0m\u001b[0;34m,\u001b[0m \u001b[0;34m'created_at'\u001b[0m\u001b[0;34m]\u001b[0m\u001b[0;34m,\u001b[0m \u001b[0mmax_results\u001b[0m\u001b[0;34m=\u001b[0m\u001b[0;36m10\u001b[0m\u001b[0;34m)\u001b[0m\u001b[0;34m\u001b[0m\u001b[0;34m\u001b[0m\u001b[0m\n\u001b[0m\u001b[1;32m      6\u001b[0m \u001b[0;34m\u001b[0m\u001b[0m\n\u001b[1;32m      7\u001b[0m \u001b[0;31m# Get tweets that contain the hashtag #TypeKeywordHere\u001b[0m\u001b[0;34m\u001b[0m\u001b[0;34m\u001b[0m\u001b[0m\n",
            "\u001b[0;32m/usr/local/lib/python3.10/dist-packages/tweepy/client.py\u001b[0m in \u001b[0;36msearch_recent_tweets\u001b[0;34m(self, query, user_auth, **params)\u001b[0m\n\u001b[1;32m   1264\u001b[0m         \"\"\"\n\u001b[1;32m   1265\u001b[0m         \u001b[0mparams\u001b[0m\u001b[0;34m[\u001b[0m\u001b[0;34m\"query\"\u001b[0m\u001b[0;34m]\u001b[0m \u001b[0;34m=\u001b[0m \u001b[0mquery\u001b[0m\u001b[0;34m\u001b[0m\u001b[0;34m\u001b[0m\u001b[0m\n\u001b[0;32m-> 1266\u001b[0;31m         return self._make_request(\n\u001b[0m\u001b[1;32m   1267\u001b[0m             \u001b[0;34m\"GET\"\u001b[0m\u001b[0;34m,\u001b[0m \u001b[0;34m\"/2/tweets/search/recent\"\u001b[0m\u001b[0;34m,\u001b[0m \u001b[0mparams\u001b[0m\u001b[0;34m=\u001b[0m\u001b[0mparams\u001b[0m\u001b[0;34m,\u001b[0m\u001b[0;34m\u001b[0m\u001b[0;34m\u001b[0m\u001b[0m\n\u001b[1;32m   1268\u001b[0m             endpoint_parameters=(\n",
            "\u001b[0;32m/usr/local/lib/python3.10/dist-packages/tweepy/client.py\u001b[0m in \u001b[0;36m_make_request\u001b[0;34m(self, method, route, params, endpoint_parameters, json, data_type, user_auth)\u001b[0m\n\u001b[1;32m    127\u001b[0m         \u001b[0mrequest_params\u001b[0m \u001b[0;34m=\u001b[0m \u001b[0mself\u001b[0m\u001b[0;34m.\u001b[0m\u001b[0m_process_params\u001b[0m\u001b[0;34m(\u001b[0m\u001b[0mparams\u001b[0m\u001b[0;34m,\u001b[0m \u001b[0mendpoint_parameters\u001b[0m\u001b[0;34m)\u001b[0m\u001b[0;34m\u001b[0m\u001b[0;34m\u001b[0m\u001b[0m\n\u001b[1;32m    128\u001b[0m \u001b[0;34m\u001b[0m\u001b[0m\n\u001b[0;32m--> 129\u001b[0;31m         response = self.request(method, route, params=request_params,\n\u001b[0m\u001b[1;32m    130\u001b[0m                                 json=json, user_auth=user_auth)\n\u001b[1;32m    131\u001b[0m \u001b[0;34m\u001b[0m\u001b[0m\n",
            "\u001b[0;32m/usr/local/lib/python3.10/dist-packages/tweepy/client.py\u001b[0m in \u001b[0;36mrequest\u001b[0;34m(self, method, route, params, json, user_auth)\u001b[0m\n\u001b[1;32m     98\u001b[0m                 \u001b[0;32mraise\u001b[0m \u001b[0mUnauthorized\u001b[0m\u001b[0;34m(\u001b[0m\u001b[0mresponse\u001b[0m\u001b[0;34m)\u001b[0m\u001b[0;34m\u001b[0m\u001b[0;34m\u001b[0m\u001b[0m\n\u001b[1;32m     99\u001b[0m             \u001b[0;32mif\u001b[0m \u001b[0mresponse\u001b[0m\u001b[0;34m.\u001b[0m\u001b[0mstatus_code\u001b[0m \u001b[0;34m==\u001b[0m \u001b[0;36m403\u001b[0m\u001b[0;34m:\u001b[0m\u001b[0;34m\u001b[0m\u001b[0;34m\u001b[0m\u001b[0m\n\u001b[0;32m--> 100\u001b[0;31m                 \u001b[0;32mraise\u001b[0m \u001b[0mForbidden\u001b[0m\u001b[0;34m(\u001b[0m\u001b[0mresponse\u001b[0m\u001b[0;34m)\u001b[0m\u001b[0;34m\u001b[0m\u001b[0;34m\u001b[0m\u001b[0m\n\u001b[0m\u001b[1;32m    101\u001b[0m             \u001b[0;32mif\u001b[0m \u001b[0mresponse\u001b[0m\u001b[0;34m.\u001b[0m\u001b[0mstatus_code\u001b[0m \u001b[0;34m==\u001b[0m \u001b[0;36m404\u001b[0m\u001b[0;34m:\u001b[0m\u001b[0;34m\u001b[0m\u001b[0;34m\u001b[0m\u001b[0m\n\u001b[1;32m    102\u001b[0m                 \u001b[0;32mraise\u001b[0m \u001b[0mNotFound\u001b[0m\u001b[0;34m(\u001b[0m\u001b[0mresponse\u001b[0m\u001b[0;34m)\u001b[0m\u001b[0;34m\u001b[0m\u001b[0;34m\u001b[0m\u001b[0m\n",
            "\u001b[0;31mForbidden\u001b[0m: 403 Forbidden\nWhen authenticating requests to the Twitter API v2 endpoints, you must use keys and tokens from a Twitter developer App that is attached to a Project. You can create a project via the developer portal."
          ]
        }
      ]
    },
    {
      "cell_type": "code",
      "source": [
        "for tweet in tweets.data:\n",
        "    print('\\n**Tweet Text**\\n',tweet.text)"
      ],
      "metadata": {
        "id": "49DQPigxVOhu",
        "colab": {
          "base_uri": "https://localhost:8080/",
          "height": 158
        },
        "outputId": "2973398e-24ed-44b4-8048-83844fada27f"
      },
      "execution_count": 18,
      "outputs": [
        {
          "output_type": "error",
          "ename": "NameError",
          "evalue": "name 'tweets' is not defined",
          "traceback": [
            "\u001b[0;31m---------------------------------------------------------------------------\u001b[0m",
            "\u001b[0;31mNameError\u001b[0m                                 Traceback (most recent call last)",
            "\u001b[0;32m<ipython-input-18-57a166d5b614>\u001b[0m in \u001b[0;36m<cell line: 1>\u001b[0;34m()\u001b[0m\n\u001b[0;32m----> 1\u001b[0;31m \u001b[0;32mfor\u001b[0m \u001b[0mtweet\u001b[0m \u001b[0;32min\u001b[0m \u001b[0mtweets\u001b[0m\u001b[0;34m.\u001b[0m\u001b[0mdata\u001b[0m\u001b[0;34m:\u001b[0m\u001b[0;34m\u001b[0m\u001b[0;34m\u001b[0m\u001b[0m\n\u001b[0m\u001b[1;32m      2\u001b[0m     \u001b[0mprint\u001b[0m\u001b[0;34m(\u001b[0m\u001b[0;34m'\\n**Tweet Text**\\n'\u001b[0m\u001b[0;34m,\u001b[0m\u001b[0mtweet\u001b[0m\u001b[0;34m.\u001b[0m\u001b[0mtext\u001b[0m\u001b[0;34m)\u001b[0m\u001b[0;34m\u001b[0m\u001b[0;34m\u001b[0m\u001b[0m\n",
            "\u001b[0;31mNameError\u001b[0m: name 'tweets' is not defined"
          ]
        }
      ]
    },
    {
      "cell_type": "markdown",
      "source": [
        "# **Tutorial\\#2: Tweepy Walkthrough**"
      ],
      "metadata": {
        "id": "hDz0sTHKpMJP"
      }
    },
    {
      "cell_type": "markdown",
      "source": [
        "## Tweepy - API Class (Twitter API v1.1)"
      ],
      "metadata": {
        "id": "LwuM_oLmRspH"
      }
    },
    {
      "cell_type": "markdown",
      "source": [
        "### Set up environment"
      ],
      "metadata": {
        "id": "rUdfYMvNR4Lk"
      }
    },
    {
      "cell_type": "code",
      "source": [
        "# !pip install tweepy==4.9.0\n",
        "# import tweepy"
      ],
      "metadata": {
        "id": "7Ur3YFMkWdPv"
      },
      "execution_count": null,
      "outputs": []
    },
    {
      "cell_type": "markdown",
      "source": [
        "### Authentication"
      ],
      "metadata": {
        "id": "E4-arYLAiRXh"
      }
    },
    {
      "cell_type": "code",
      "source": [
        "# Authenticate with Twitter OAuth 1.0a User Context\n",
        "auth = tweepy.OAuth1UserHandler(\n",
        "\n",
        "   API_Key,                     # API / Consumer Key here\n",
        "   API_Secret,                  # API / Consumer Secret here\n",
        "   Access_Token,                # Access Token here\n",
        "   Access_Secret                # Access Token Secret here\n",
        ")\n",
        "api = tweepy.API(auth)"
      ],
      "metadata": {
        "id": "jOf9n-6iJje8"
      },
      "execution_count": null,
      "outputs": []
    },
    {
      "cell_type": "markdown",
      "source": [
        "### Make a tweet\n"
      ],
      "metadata": {
        "id": "4HAbsbvQiaxF"
      }
    },
    {
      "cell_type": "code",
      "source": [
        "tweet = api.update_status(\"Hey there!! Courtesy: Tweepy v3\")"
      ],
      "metadata": {
        "id": "y_lfZZC6J1Ak"
      },
      "execution_count": null,
      "outputs": []
    },
    {
      "cell_type": "markdown",
      "source": [
        "### Get tweets from home timeline"
      ],
      "metadata": {
        "id": "IKjTKkYqirCO"
      }
    },
    {
      "cell_type": "code",
      "source": [
        "# Get recent tweets from your home timeline\n",
        "tweets = api.home_timeline(count=5)\n",
        "for tweet in tweets:\n",
        "    print(tweet.text,'\\n')"
      ],
      "metadata": {
        "id": "gf83fNmbLm7O",
        "colab": {
          "base_uri": "https://localhost:8080/"
        },
        "outputId": "7c4708e7-b013-4c92-cdb8-b542cf91d86b"
      },
      "execution_count": null,
      "outputs": [
        {
          "output_type": "stream",
          "name": "stdout",
          "text": [
            "Hey there!! Courtesy: Tweepy v3 \n",
            "\n",
            "Hey there!! Courtesy: Tweepy 2023 - v2 \n",
            "\n",
            "Hey there!! Courtesy: Tweepy 2023 \n",
            "\n",
            "Many have been asking this question.  The Railways do have an indigenous Automatic Train Protection (ATP) System ca… https://t.co/YboiA4Uio3 \n",
            "\n"
          ]
        }
      ]
    },
    {
      "cell_type": "markdown",
      "source": [
        "### Get your own tweets"
      ],
      "metadata": {
        "id": "K9jsvMAsi01T"
      }
    },
    {
      "cell_type": "code",
      "source": [
        "# Get Tweets (recent tweets from your account)\n",
        "tweets = api.user_timeline(count=2)\n",
        "for tweet in tweets:\n",
        "    print(tweet.text,'\\n')"
      ],
      "metadata": {
        "id": "KP2RvLJxLBpj",
        "colab": {
          "base_uri": "https://localhost:8080/"
        },
        "outputId": "0a59179f-55af-4266-ad98-1c4a4f0c69cd"
      },
      "execution_count": null,
      "outputs": [
        {
          "output_type": "stream",
          "name": "stdout",
          "text": [
            "Hey there!! Courtesy: Tweepy v3 \n",
            "\n",
            "Hey there!! Courtesy: Tweepy 2023 - v2 \n",
            "\n"
          ]
        }
      ]
    },
    {
      "cell_type": "code",
      "source": [
        "# Tweet object has lots of data. Let's check out the Tweet JSON specs\n",
        "tweets = api.user_timeline(count=2)\n",
        "for tweet in tweets:\n",
        "    print(tweet.created_at)\n",
        "    print(tweet.id_str)\n",
        "    print(tweet.text,'\\n')"
      ],
      "metadata": {
        "id": "W-o1zOpBMUgP",
        "colab": {
          "base_uri": "https://localhost:8080/"
        },
        "outputId": "b72db758-5b65-46fb-86f9-9bf2d9878889"
      },
      "execution_count": null,
      "outputs": [
        {
          "output_type": "stream",
          "name": "stdout",
          "text": [
            "2023-06-03 07:41:41+00:00\n",
            "1664900146411208707\n",
            "Hey there!! Courtesy: Tweepy v3 \n",
            "\n",
            "2023-06-03 07:34:25+00:00\n",
            "1664898317015236609\n",
            "Hey there!! Courtesy: Tweepy 2023 - v2 \n",
            "\n"
          ]
        }
      ]
    },
    {
      "cell_type": "markdown",
      "source": [
        "### Delete a tweet"
      ],
      "metadata": {
        "id": "ZJZbAx3hjCoY"
      }
    },
    {
      "cell_type": "code",
      "source": [
        "# Delete a Tweet\n",
        "to_be_deleted_tweet = api.update_status('Bad Tweet')"
      ],
      "metadata": {
        "id": "nW8T07MWMvVL"
      },
      "execution_count": null,
      "outputs": []
    },
    {
      "cell_type": "code",
      "source": [
        "api.destroy_status(to_be_deleted_tweet.id_str)"
      ],
      "metadata": {
        "id": "7qiYdLl-NTKr",
        "colab": {
          "base_uri": "https://localhost:8080/"
        },
        "outputId": "4489b95a-829c-4b87-978e-9827305d7259"
      },
      "execution_count": null,
      "outputs": [
        {
          "output_type": "execute_result",
          "data": {
            "text/plain": [
              "Status(_api=<tweepy.api.API object at 0x7fdc94218a90>, _json={'created_at': 'Sat Jun 03 07:41:52 +0000 2023', 'id': 1664900192649326592, 'id_str': '1664900192649326592', 'text': 'Bad Tweet', 'truncated': False, 'entities': {'hashtags': [], 'symbols': [], 'user_mentions': [], 'urls': []}, 'source': '<a href=\"https://skillcate.com\" rel=\"nofollow\">skillcate_text_analytics</a>', 'in_reply_to_status_id': None, 'in_reply_to_status_id_str': None, 'in_reply_to_user_id': None, 'in_reply_to_user_id_str': None, 'in_reply_to_screen_name': None, 'user': {'id': 1293517258958860288, 'id_str': '1293517258958860288', 'name': 'Skillcate AI', 'screen_name': 'skillcate', 'location': 'India', 'description': 'Industry Ready Project-based Courses on Machine Learning for Working Professionals', 'url': 'https://t.co/oiZ7ti5cqD', 'entities': {'url': {'urls': [{'url': 'https://t.co/oiZ7ti5cqD', 'expanded_url': 'https://youtube.com/skillcate', 'display_url': 'youtube.com/skillcate', 'indices': [0, 23]}]}, 'description': {'urls': []}}, 'protected': False, 'followers_count': 2, 'friends_count': 38, 'listed_count': 0, 'created_at': 'Wed Aug 12 11:59:03 +0000 2020', 'favourites_count': 3, 'utc_offset': None, 'time_zone': None, 'geo_enabled': False, 'verified': False, 'statuses_count': 14, 'lang': None, 'contributors_enabled': False, 'is_translator': False, 'is_translation_enabled': False, 'profile_background_color': 'F5F8FA', 'profile_background_image_url': None, 'profile_background_image_url_https': None, 'profile_background_tile': False, 'profile_image_url': 'http://pbs.twimg.com/profile_images/1551487803506462721/vigLY5B8_normal.jpg', 'profile_image_url_https': 'https://pbs.twimg.com/profile_images/1551487803506462721/vigLY5B8_normal.jpg', 'profile_link_color': '1DA1F2', 'profile_sidebar_border_color': 'C0DEED', 'profile_sidebar_fill_color': 'DDEEF6', 'profile_text_color': '333333', 'profile_use_background_image': True, 'has_extended_profile': True, 'default_profile': True, 'default_profile_image': False, 'following': False, 'follow_request_sent': False, 'notifications': False, 'translator_type': 'none', 'withheld_in_countries': []}, 'geo': None, 'coordinates': None, 'place': None, 'contributors': None, 'is_quote_status': False, 'retweet_count': 0, 'favorite_count': 0, 'favorited': False, 'retweeted': False, 'lang': 'en'}, created_at=datetime.datetime(2023, 6, 3, 7, 41, 52, tzinfo=datetime.timezone.utc), id=1664900192649326592, id_str='1664900192649326592', text='Bad Tweet', truncated=False, entities={'hashtags': [], 'symbols': [], 'user_mentions': [], 'urls': []}, source='skillcate_text_analytics', source_url='https://skillcate.com', in_reply_to_status_id=None, in_reply_to_status_id_str=None, in_reply_to_user_id=None, in_reply_to_user_id_str=None, in_reply_to_screen_name=None, author=User(_api=<tweepy.api.API object at 0x7fdc94218a90>, _json={'id': 1293517258958860288, 'id_str': '1293517258958860288', 'name': 'Skillcate AI', 'screen_name': 'skillcate', 'location': 'India', 'description': 'Industry Ready Project-based Courses on Machine Learning for Working Professionals', 'url': 'https://t.co/oiZ7ti5cqD', 'entities': {'url': {'urls': [{'url': 'https://t.co/oiZ7ti5cqD', 'expanded_url': 'https://youtube.com/skillcate', 'display_url': 'youtube.com/skillcate', 'indices': [0, 23]}]}, 'description': {'urls': []}}, 'protected': False, 'followers_count': 2, 'friends_count': 38, 'listed_count': 0, 'created_at': 'Wed Aug 12 11:59:03 +0000 2020', 'favourites_count': 3, 'utc_offset': None, 'time_zone': None, 'geo_enabled': False, 'verified': False, 'statuses_count': 14, 'lang': None, 'contributors_enabled': False, 'is_translator': False, 'is_translation_enabled': False, 'profile_background_color': 'F5F8FA', 'profile_background_image_url': None, 'profile_background_image_url_https': None, 'profile_background_tile': False, 'profile_image_url': 'http://pbs.twimg.com/profile_images/1551487803506462721/vigLY5B8_normal.jpg', 'profile_image_url_https': 'https://pbs.twimg.com/profile_images/1551487803506462721/vigLY5B8_normal.jpg', 'profile_link_color': '1DA1F2', 'profile_sidebar_border_color': 'C0DEED', 'profile_sidebar_fill_color': 'DDEEF6', 'profile_text_color': '333333', 'profile_use_background_image': True, 'has_extended_profile': True, 'default_profile': True, 'default_profile_image': False, 'following': False, 'follow_request_sent': False, 'notifications': False, 'translator_type': 'none', 'withheld_in_countries': []}, id=1293517258958860288, id_str='1293517258958860288', name='Skillcate AI', screen_name='skillcate', location='India', description='Industry Ready Project-based Courses on Machine Learning for Working Professionals', url='https://t.co/oiZ7ti5cqD', entities={'url': {'urls': [{'url': 'https://t.co/oiZ7ti5cqD', 'expanded_url': 'https://youtube.com/skillcate', 'display_url': 'youtube.com/skillcate', 'indices': [0, 23]}]}, 'description': {'urls': []}}, protected=False, followers_count=2, friends_count=38, listed_count=0, created_at=datetime.datetime(2020, 8, 12, 11, 59, 3, tzinfo=datetime.timezone.utc), favourites_count=3, utc_offset=None, time_zone=None, geo_enabled=False, verified=False, statuses_count=14, lang=None, contributors_enabled=False, is_translator=False, is_translation_enabled=False, profile_background_color='F5F8FA', profile_background_image_url=None, profile_background_image_url_https=None, profile_background_tile=False, profile_image_url='http://pbs.twimg.com/profile_images/1551487803506462721/vigLY5B8_normal.jpg', profile_image_url_https='https://pbs.twimg.com/profile_images/1551487803506462721/vigLY5B8_normal.jpg', profile_link_color='1DA1F2', profile_sidebar_border_color='C0DEED', profile_sidebar_fill_color='DDEEF6', profile_text_color='333333', profile_use_background_image=True, has_extended_profile=True, default_profile=True, default_profile_image=False, following=False, follow_request_sent=False, notifications=False, translator_type='none', withheld_in_countries=[]), user=User(_api=<tweepy.api.API object at 0x7fdc94218a90>, _json={'id': 1293517258958860288, 'id_str': '1293517258958860288', 'name': 'Skillcate AI', 'screen_name': 'skillcate', 'location': 'India', 'description': 'Industry Ready Project-based Courses on Machine Learning for Working Professionals', 'url': 'https://t.co/oiZ7ti5cqD', 'entities': {'url': {'urls': [{'url': 'https://t.co/oiZ7ti5cqD', 'expanded_url': 'https://youtube.com/skillcate', 'display_url': 'youtube.com/skillcate', 'indices': [0, 23]}]}, 'description': {'urls': []}}, 'protected': False, 'followers_count': 2, 'friends_count': 38, 'listed_count': 0, 'created_at': 'Wed Aug 12 11:59:03 +0000 2020', 'favourites_count': 3, 'utc_offset': None, 'time_zone': None, 'geo_enabled': False, 'verified': False, 'statuses_count': 14, 'lang': None, 'contributors_enabled': False, 'is_translator': False, 'is_translation_enabled': False, 'profile_background_color': 'F5F8FA', 'profile_background_image_url': None, 'profile_background_image_url_https': None, 'profile_background_tile': False, 'profile_image_url': 'http://pbs.twimg.com/profile_images/1551487803506462721/vigLY5B8_normal.jpg', 'profile_image_url_https': 'https://pbs.twimg.com/profile_images/1551487803506462721/vigLY5B8_normal.jpg', 'profile_link_color': '1DA1F2', 'profile_sidebar_border_color': 'C0DEED', 'profile_sidebar_fill_color': 'DDEEF6', 'profile_text_color': '333333', 'profile_use_background_image': True, 'has_extended_profile': True, 'default_profile': True, 'default_profile_image': False, 'following': False, 'follow_request_sent': False, 'notifications': False, 'translator_type': 'none', 'withheld_in_countries': []}, id=1293517258958860288, id_str='1293517258958860288', name='Skillcate AI', screen_name='skillcate', location='India', description='Industry Ready Project-based Courses on Machine Learning for Working Professionals', url='https://t.co/oiZ7ti5cqD', entities={'url': {'urls': [{'url': 'https://t.co/oiZ7ti5cqD', 'expanded_url': 'https://youtube.com/skillcate', 'display_url': 'youtube.com/skillcate', 'indices': [0, 23]}]}, 'description': {'urls': []}}, protected=False, followers_count=2, friends_count=38, listed_count=0, created_at=datetime.datetime(2020, 8, 12, 11, 59, 3, tzinfo=datetime.timezone.utc), favourites_count=3, utc_offset=None, time_zone=None, geo_enabled=False, verified=False, statuses_count=14, lang=None, contributors_enabled=False, is_translator=False, is_translation_enabled=False, profile_background_color='F5F8FA', profile_background_image_url=None, profile_background_image_url_https=None, profile_background_tile=False, profile_image_url='http://pbs.twimg.com/profile_images/1551487803506462721/vigLY5B8_normal.jpg', profile_image_url_https='https://pbs.twimg.com/profile_images/1551487803506462721/vigLY5B8_normal.jpg', profile_link_color='1DA1F2', profile_sidebar_border_color='C0DEED', profile_sidebar_fill_color='DDEEF6', profile_text_color='333333', profile_use_background_image=True, has_extended_profile=True, default_profile=True, default_profile_image=False, following=False, follow_request_sent=False, notifications=False, translator_type='none', withheld_in_countries=[]), geo=None, coordinates=None, place=None, contributors=None, is_quote_status=False, retweet_count=0, favorite_count=0, favorited=False, retweeted=False, lang='en')"
            ]
          },
          "metadata": {},
          "execution_count": 13
        }
      ]
    },
    {
      "cell_type": "markdown",
      "source": [
        "### Follow someone"
      ],
      "metadata": {
        "id": "lF7VgsCljJA-"
      }
    },
    {
      "cell_type": "code",
      "source": [
        "# Follow\n",
        "api.create_friendship(screen_name='@YouTube')"
      ],
      "metadata": {
        "colab": {
          "base_uri": "https://localhost:8080/"
        },
        "id": "t-ioeZc9B59d",
        "outputId": "03f2dabc-d53e-4bcc-c39f-0aea3b609d4a"
      },
      "execution_count": null,
      "outputs": [
        {
          "output_type": "execute_result",
          "data": {
            "text/plain": [
              "User(_api=<tweepy.api.API object at 0x7fdc94218a90>, _json={'id': 10228272, 'id_str': '10228272', 'name': 'YouTube', 'screen_name': 'YouTube', 'location': 'San Bruno, CA', 'description': 'like and subscribe.', 'url': 'https://t.co/bUisN3YzpE', 'entities': {'url': {'urls': [{'url': 'https://t.co/bUisN3YzpE', 'expanded_url': 'http://youtube.com', 'display_url': 'youtube.com', 'indices': [0, 23]}]}, 'description': {'urls': []}}, 'protected': False, 'followers_count': 78872070, 'friends_count': 1190, 'listed_count': 80154, 'created_at': 'Tue Nov 13 21:43:46 +0000 2007', 'favourites_count': 6169, 'utc_offset': None, 'time_zone': None, 'geo_enabled': False, 'verified': False, 'statuses_count': 54177, 'lang': None, 'status': {'created_at': 'Fri Jun 02 21:49:08 +0000 2023', 'id': 1664751023154425856, 'id_str': '1664751023154425856', 'text': '@Julia_Chef1 ooh what an iconic duo!!', 'truncated': False, 'entities': {'hashtags': [], 'symbols': [], 'user_mentions': [{'screen_name': 'Julia_Chef1', 'name': 'Julia', 'id': 1617717850948632576, 'id_str': '1617717850948632576', 'indices': [0, 12]}], 'urls': []}, 'source': '<a href=\"https://prod8.sprinklr.com/\" rel=\"nofollow\">Sprinklr Care</a>', 'in_reply_to_status_id': 1664749459648172032, 'in_reply_to_status_id_str': '1664749459648172032', 'in_reply_to_user_id': 1617717850948632576, 'in_reply_to_user_id_str': '1617717850948632576', 'in_reply_to_screen_name': 'Julia_Chef1', 'geo': None, 'coordinates': None, 'place': None, 'contributors': None, 'is_quote_status': False, 'retweet_count': 0, 'favorite_count': 2, 'favorited': False, 'retweeted': False, 'lang': 'en'}, 'contributors_enabled': False, 'is_translator': False, 'is_translation_enabled': True, 'profile_background_color': 'AF0000', 'profile_background_image_url': 'http://abs.twimg.com/images/themes/theme14/bg.gif', 'profile_background_image_url_https': 'https://abs.twimg.com/images/themes/theme14/bg.gif', 'profile_background_tile': True, 'profile_image_url': 'http://pbs.twimg.com/profile_images/1427292844612595720/RC1YSvuT_normal.jpg', 'profile_image_url_https': 'https://pbs.twimg.com/profile_images/1427292844612595720/RC1YSvuT_normal.jpg', 'profile_banner_url': 'https://pbs.twimg.com/profile_banners/10228272/1685635291', 'profile_link_color': 'C9191D', 'profile_sidebar_border_color': '000000', 'profile_sidebar_fill_color': 'EFEFEF', 'profile_text_color': '333333', 'profile_use_background_image': True, 'has_extended_profile': False, 'default_profile': False, 'default_profile_image': False, 'following': True, 'follow_request_sent': False, 'notifications': False, 'muting': False, 'translator_type': 'regular', 'withheld_in_countries': []}, id=10228272, id_str='10228272', name='YouTube', screen_name='YouTube', location='San Bruno, CA', description='like and subscribe.', url='https://t.co/bUisN3YzpE', entities={'url': {'urls': [{'url': 'https://t.co/bUisN3YzpE', 'expanded_url': 'http://youtube.com', 'display_url': 'youtube.com', 'indices': [0, 23]}]}, 'description': {'urls': []}}, protected=False, followers_count=78872070, friends_count=1190, listed_count=80154, created_at=datetime.datetime(2007, 11, 13, 21, 43, 46, tzinfo=datetime.timezone.utc), favourites_count=6169, utc_offset=None, time_zone=None, geo_enabled=False, verified=False, statuses_count=54177, lang=None, status=Status(_api=<tweepy.api.API object at 0x7fdc94218a90>, _json={'created_at': 'Fri Jun 02 21:49:08 +0000 2023', 'id': 1664751023154425856, 'id_str': '1664751023154425856', 'text': '@Julia_Chef1 ooh what an iconic duo!!', 'truncated': False, 'entities': {'hashtags': [], 'symbols': [], 'user_mentions': [{'screen_name': 'Julia_Chef1', 'name': 'Julia', 'id': 1617717850948632576, 'id_str': '1617717850948632576', 'indices': [0, 12]}], 'urls': []}, 'source': '<a href=\"https://prod8.sprinklr.com/\" rel=\"nofollow\">Sprinklr Care</a>', 'in_reply_to_status_id': 1664749459648172032, 'in_reply_to_status_id_str': '1664749459648172032', 'in_reply_to_user_id': 1617717850948632576, 'in_reply_to_user_id_str': '1617717850948632576', 'in_reply_to_screen_name': 'Julia_Chef1', 'geo': None, 'coordinates': None, 'place': None, 'contributors': None, 'is_quote_status': False, 'retweet_count': 0, 'favorite_count': 2, 'favorited': False, 'retweeted': False, 'lang': 'en'}, created_at=datetime.datetime(2023, 6, 2, 21, 49, 8, tzinfo=datetime.timezone.utc), id=1664751023154425856, id_str='1664751023154425856', text='@Julia_Chef1 ooh what an iconic duo!!', truncated=False, entities={'hashtags': [], 'symbols': [], 'user_mentions': [{'screen_name': 'Julia_Chef1', 'name': 'Julia', 'id': 1617717850948632576, 'id_str': '1617717850948632576', 'indices': [0, 12]}], 'urls': []}, source='Sprinklr Care', source_url='https://prod8.sprinklr.com/', in_reply_to_status_id=1664749459648172032, in_reply_to_status_id_str='1664749459648172032', in_reply_to_user_id=1617717850948632576, in_reply_to_user_id_str='1617717850948632576', in_reply_to_screen_name='Julia_Chef1', geo=None, coordinates=None, place=None, contributors=None, is_quote_status=False, retweet_count=0, favorite_count=2, favorited=False, retweeted=False, lang='en'), contributors_enabled=False, is_translator=False, is_translation_enabled=True, profile_background_color='AF0000', profile_background_image_url='http://abs.twimg.com/images/themes/theme14/bg.gif', profile_background_image_url_https='https://abs.twimg.com/images/themes/theme14/bg.gif', profile_background_tile=True, profile_image_url='http://pbs.twimg.com/profile_images/1427292844612595720/RC1YSvuT_normal.jpg', profile_image_url_https='https://pbs.twimg.com/profile_images/1427292844612595720/RC1YSvuT_normal.jpg', profile_banner_url='https://pbs.twimg.com/profile_banners/10228272/1685635291', profile_link_color='C9191D', profile_sidebar_border_color='000000', profile_sidebar_fill_color='EFEFEF', profile_text_color='333333', profile_use_background_image=True, has_extended_profile=False, default_profile=False, default_profile_image=False, following=True, follow_request_sent=False, notifications=False, muting=False, translator_type='regular', withheld_in_countries=[])"
            ]
          },
          "metadata": {},
          "execution_count": 14
        }
      ]
    },
    {
      "cell_type": "code",
      "source": [
        "# Unfollow\n",
        "api.destroy_friendship(screen_name='@YouTube')"
      ],
      "metadata": {
        "id": "aPcD9uy2NnAu",
        "colab": {
          "base_uri": "https://localhost:8080/"
        },
        "outputId": "c741cda1-f462-45f3-985a-e40052a08c4b"
      },
      "execution_count": null,
      "outputs": [
        {
          "output_type": "execute_result",
          "data": {
            "text/plain": [
              "User(_api=<tweepy.api.API object at 0x7fdc94218a90>, _json={'id': 10228272, 'id_str': '10228272', 'name': 'YouTube', 'screen_name': 'YouTube', 'location': 'San Bruno, CA', 'description': 'like and subscribe.', 'url': 'https://t.co/bUisN3YzpE', 'entities': {'url': {'urls': [{'url': 'https://t.co/bUisN3YzpE', 'expanded_url': 'http://youtube.com', 'display_url': 'youtube.com', 'indices': [0, 23]}]}, 'description': {'urls': []}}, 'protected': False, 'followers_count': 78872074, 'friends_count': 1190, 'listed_count': 80154, 'created_at': 'Tue Nov 13 21:43:46 +0000 2007', 'favourites_count': 6169, 'utc_offset': None, 'time_zone': None, 'geo_enabled': False, 'verified': False, 'statuses_count': 54177, 'lang': None, 'status': {'created_at': 'Fri Jun 02 21:49:08 +0000 2023', 'id': 1664751023154425856, 'id_str': '1664751023154425856', 'text': '@Julia_Chef1 ooh what an iconic duo!!', 'truncated': False, 'entities': {'hashtags': [], 'symbols': [], 'user_mentions': [{'screen_name': 'Julia_Chef1', 'name': 'Julia', 'id': 1617717850948632576, 'id_str': '1617717850948632576', 'indices': [0, 12]}], 'urls': []}, 'source': '<a href=\"https://prod8.sprinklr.com/\" rel=\"nofollow\">Sprinklr Care</a>', 'in_reply_to_status_id': 1664749459648172032, 'in_reply_to_status_id_str': '1664749459648172032', 'in_reply_to_user_id': 1617717850948632576, 'in_reply_to_user_id_str': '1617717850948632576', 'in_reply_to_screen_name': 'Julia_Chef1', 'geo': None, 'coordinates': None, 'place': None, 'contributors': None, 'is_quote_status': False, 'retweet_count': 0, 'favorite_count': 2, 'favorited': False, 'retweeted': False, 'lang': 'en'}, 'contributors_enabled': False, 'is_translator': False, 'is_translation_enabled': True, 'profile_background_color': 'AF0000', 'profile_background_image_url': 'http://abs.twimg.com/images/themes/theme14/bg.gif', 'profile_background_image_url_https': 'https://abs.twimg.com/images/themes/theme14/bg.gif', 'profile_background_tile': True, 'profile_image_url': 'http://pbs.twimg.com/profile_images/1427292844612595720/RC1YSvuT_normal.jpg', 'profile_image_url_https': 'https://pbs.twimg.com/profile_images/1427292844612595720/RC1YSvuT_normal.jpg', 'profile_banner_url': 'https://pbs.twimg.com/profile_banners/10228272/1685635291', 'profile_link_color': 'C9191D', 'profile_sidebar_border_color': '000000', 'profile_sidebar_fill_color': 'EFEFEF', 'profile_text_color': '333333', 'profile_use_background_image': True, 'has_extended_profile': False, 'default_profile': False, 'default_profile_image': False, 'following': True, 'follow_request_sent': False, 'notifications': False, 'muting': False, 'translator_type': 'regular', 'withheld_in_countries': []}, id=10228272, id_str='10228272', name='YouTube', screen_name='YouTube', location='San Bruno, CA', description='like and subscribe.', url='https://t.co/bUisN3YzpE', entities={'url': {'urls': [{'url': 'https://t.co/bUisN3YzpE', 'expanded_url': 'http://youtube.com', 'display_url': 'youtube.com', 'indices': [0, 23]}]}, 'description': {'urls': []}}, protected=False, followers_count=78872074, friends_count=1190, listed_count=80154, created_at=datetime.datetime(2007, 11, 13, 21, 43, 46, tzinfo=datetime.timezone.utc), favourites_count=6169, utc_offset=None, time_zone=None, geo_enabled=False, verified=False, statuses_count=54177, lang=None, status=Status(_api=<tweepy.api.API object at 0x7fdc94218a90>, _json={'created_at': 'Fri Jun 02 21:49:08 +0000 2023', 'id': 1664751023154425856, 'id_str': '1664751023154425856', 'text': '@Julia_Chef1 ooh what an iconic duo!!', 'truncated': False, 'entities': {'hashtags': [], 'symbols': [], 'user_mentions': [{'screen_name': 'Julia_Chef1', 'name': 'Julia', 'id': 1617717850948632576, 'id_str': '1617717850948632576', 'indices': [0, 12]}], 'urls': []}, 'source': '<a href=\"https://prod8.sprinklr.com/\" rel=\"nofollow\">Sprinklr Care</a>', 'in_reply_to_status_id': 1664749459648172032, 'in_reply_to_status_id_str': '1664749459648172032', 'in_reply_to_user_id': 1617717850948632576, 'in_reply_to_user_id_str': '1617717850948632576', 'in_reply_to_screen_name': 'Julia_Chef1', 'geo': None, 'coordinates': None, 'place': None, 'contributors': None, 'is_quote_status': False, 'retweet_count': 0, 'favorite_count': 2, 'favorited': False, 'retweeted': False, 'lang': 'en'}, created_at=datetime.datetime(2023, 6, 2, 21, 49, 8, tzinfo=datetime.timezone.utc), id=1664751023154425856, id_str='1664751023154425856', text='@Julia_Chef1 ooh what an iconic duo!!', truncated=False, entities={'hashtags': [], 'symbols': [], 'user_mentions': [{'screen_name': 'Julia_Chef1', 'name': 'Julia', 'id': 1617717850948632576, 'id_str': '1617717850948632576', 'indices': [0, 12]}], 'urls': []}, source='Sprinklr Care', source_url='https://prod8.sprinklr.com/', in_reply_to_status_id=1664749459648172032, in_reply_to_status_id_str='1664749459648172032', in_reply_to_user_id=1617717850948632576, in_reply_to_user_id_str='1617717850948632576', in_reply_to_screen_name='Julia_Chef1', geo=None, coordinates=None, place=None, contributors=None, is_quote_status=False, retweet_count=0, favorite_count=2, favorited=False, retweeted=False, lang='en'), contributors_enabled=False, is_translator=False, is_translation_enabled=True, profile_background_color='AF0000', profile_background_image_url='http://abs.twimg.com/images/themes/theme14/bg.gif', profile_background_image_url_https='https://abs.twimg.com/images/themes/theme14/bg.gif', profile_background_tile=True, profile_image_url='http://pbs.twimg.com/profile_images/1427292844612595720/RC1YSvuT_normal.jpg', profile_image_url_https='https://pbs.twimg.com/profile_images/1427292844612595720/RC1YSvuT_normal.jpg', profile_banner_url='https://pbs.twimg.com/profile_banners/10228272/1685635291', profile_link_color='C9191D', profile_sidebar_border_color='000000', profile_sidebar_fill_color='EFEFEF', profile_text_color='333333', profile_use_background_image=True, has_extended_profile=False, default_profile=False, default_profile_image=False, following=True, follow_request_sent=False, notifications=False, muting=False, translator_type='regular', withheld_in_countries=[])"
            ]
          },
          "metadata": {},
          "execution_count": 15
        }
      ]
    },
    {
      "cell_type": "markdown",
      "source": [
        "## Tweepy - Client Class (Twitter API v2.0)"
      ],
      "metadata": {
        "id": "DyHJr7IyOTK3"
      }
    },
    {
      "cell_type": "markdown",
      "source": [
        "### Authentication"
      ],
      "metadata": {
        "id": "zSsoTq2NjPa2"
      }
    },
    {
      "cell_type": "code",
      "source": [
        "# !pip install tweepy==4.9.0\n",
        "# import tweepy"
      ],
      "metadata": {
        "id": "fIh4fpXefhCH"
      },
      "execution_count": null,
      "outputs": []
    },
    {
      "cell_type": "code",
      "source": [
        "# Authenticate with Twitter OAuth 2.0 Bearer Token (Application-only)\n",
        "client = tweepy.Client(Bearer_Token)"
      ],
      "metadata": {
        "id": "QZgz15VGRtjH"
      },
      "execution_count": null,
      "outputs": []
    },
    {
      "cell_type": "code",
      "source": [
        "# Pull tweets from twitter\n",
        "\n",
        "query = '#chatgpt -is:retweet lang:en'\n",
        "tweets = client.search_recent_tweets(query=query, tweet_fields=['context_annotations', 'created_at'], max_results=10)\n",
        "\n",
        "# Get tweets that contain the hashtag #TypeKeywordHere\n",
        "# -is:retweet means I don't want retweets\n",
        "# lang:en is asking for the tweets to be in english"
      ],
      "metadata": {
        "id": "FJCDgv47Oetp"
      },
      "execution_count": null,
      "outputs": []
    },
    {
      "cell_type": "code",
      "source": [
        "for tweet in tweets.data:\n",
        "    print('\\n**Tweet Text**\\n',tweet.text)"
      ],
      "metadata": {
        "colab": {
          "base_uri": "https://localhost:8080/"
        },
        "id": "W8NfGgEbOewv",
        "outputId": "b79242e1-d389-474a-8771-493720854193"
      },
      "execution_count": null,
      "outputs": [
        {
          "output_type": "stream",
          "name": "stdout",
          "text": [
            "\n",
            "**Tweet Text**\n",
            " Silly face contests. \n",
            "#ChatGPT账号 #ChatGPT https://t.co/dzxymS6qPV\n",
            "\n",
            "**Tweet Text**\n",
            " @MelisOnCheddar Just write to ChatGPT [200 copywriting prompts]. There is no need to go through this process.\n",
            "\n",
            "#copywriting #copywriter #ChatGPT #pompt\n",
            "\n",
            "**Tweet Text**\n",
            " Funny hat mishaps. \n",
            "#ChatGPT账号 #ChatGPT https://t.co/M1pbgeRmno\n",
            "\n",
            "**Tweet Text**\n",
            " TampaConnect .com SOLD for $1,188 at BuyDomains, Jun'23 (not mine).\n",
            "\n",
            "❤️ CoinGPT .xyz - Listed for Sale 🔥\n",
            "&gt; Visit the link for details.\n",
            "\n",
            "#Domains #GPT #AI #Bitcoin #NFT \n",
            "#CoinGPT #Coin #AutoGPT #Chat #ChatGPT #Love #Fashion #Beauty\n",
            "#SerieA #Web3 #blockchain #FACupFinal jisoo https://t.co/TCQ7jF7Pan\n",
            "\n",
            "**Tweet Text**\n",
            " magazineality\n",
            "pinnad\n",
            "hemhood\n",
            "taeniage\n",
            "horr\n",
            "requireful \n",
            "#NBA #ChatGPT #黑U\n",
            "\n",
            "**Tweet Text**\n",
            " Indian girls jump on the global coding bandwagon in #ChatGPT era\n",
            "\n",
            "Read: https://t.co/kB3rHMEfDe https://t.co/y3IGyX9p3g\n",
            "\n",
            "**Tweet Text**\n",
            " 【OpenAI】API「That model is currently overloaded with other requests. You can retry your request, or contact us through our help center at https://t.co/vgT3Sqi4Pd if the error persists.」\n",
            "👉 https://t.co/LTB5yhFhNs\n",
            "#ChatGPT #プログラミング https://t.co/3JM2EqWB02\n",
            "\n",
            "**Tweet Text**\n",
            " Can't wait for #ScholarAI for #ChatGPT to improve. It already is a remarkable help in retrieving papers. \n",
            "I like how errors are handled in ChatGPT itself. ChatGPT just seems so kind to report the issue to the devs personally. https://t.co/i3L5uquW4I\n",
            "\n",
            "**Tweet Text**\n",
            " FREE Social Ping Submission 138 Directories\n",
            "https://t.co/JdiWOCjHiT\n",
            "#FREE #Social #Ping #Submission 138 #Directories #SEO #ChatGPT\n",
            "\n",
            "**Tweet Text**\n",
            " #datastewardhip has just been super charged with @Dataiku 12 release and its #ChatGPT plugin\n",
            "\n",
            "here is a short video, highlighting a few use cases, and how ChatGPT is ready to use in dataiku\n",
            "https://t.co/EPv7C0rWwA\n"
          ]
        }
      ]
    }
  ]
}